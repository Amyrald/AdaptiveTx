{
 "cells": [
  {
   "cell_type": "code",
   "execution_count": null,
   "id": "aec93622",
   "metadata": {},
   "outputs": [],
   "source": [
    "import sklearn\n",
    "import pandas as pd\n",
    "from sklearn.model_selection import train_test_split\n",
    "from sklearn.linear_model import LogisticRegression\n",
    "from sklearn.naive_bayes import BernoulliNB\n",
    "from sklearn.dummy import DummyClassifier\n",
    "from sklearn.metrics import precision_recall_fscore_support, average_precision_score\n",
    "from sklearn.preprocessing import StandardScaler\n",
    "from sklearn.pipeline import make_pipeline\n",
    "import matplotlib.pyplot as plt\n",
    "import seaborn as sns\n",
    "from sklearn import metrics"
   ]
  },
  {
   "cell_type": "code",
   "execution_count": null,
   "id": "6e8cf5c8",
   "metadata": {},
   "outputs": [],
   "source": [
    "#data = pd.read_excel(\"/Users/geraldimaezue/OneDrive/Dissertation/Model-ML/AE2-Model.xlsx\")\n",
    "#data = pd.read_excel(\"/Users/geraldimaezue/OneDrive/Dissertation/Model-ML/AE3-Model.xlsx\")\n",
    "ff_data = pd.read_excel(\"/Users/geraldimaezue/OneDrive/Dissertation/Model-ML/FF.xlsx\", sheet_name='FF')\n",
    "av_data = pd.read_excel(\"/Users/geraldimaezue/OneDrive/Dissertation/Model-ML/FF.xlsx\", sheet_name='Ave')\n",
    "#data = pd.read_excel(\"/Users/geraldimaezue/OneDrive/Dissertation/Model-ML/Joint.xlsx\")"
   ]
  },
  {
   "cell_type": "code",
   "execution_count": null,
   "id": "5fdaf50e",
   "metadata": {},
   "outputs": [],
   "source": [
    "ff_x = ff_data[['Duration', 'Sent_Length', 'Speech_Rate', 'Articulation_Rate', 'Syllable_Length',\n",
    "           'Syllable_Per_Word', 'Char_Length', 'Char_Per_Word', 'Article_Count']]\n",
    "\n",
    "av_x = av_data[['Duration', 'Sent_Length', 'Speech_Rate', 'Articulation_Rate', 'Syllable_Length',\n",
    "           'Syllable_Per_Word', 'Char_Length', 'Char_Per_Word', 'Article_Count']]\n",
    "\n",
    "av_y = av_data['Label']\n",
    "\n",
    "ff_oNB = ff_data[['Duration', 'Sent_Length', 'Speech_Rate',\n",
    "           'Syllable_Per_Word','Article_Count']]\n",
    "\n",
    "av_oNB = av_data[['Duration', 'Sent_Length', 'Speech_Rate',\n",
    "           'Syllable_Per_Word','Article_Count']]\n",
    "\n",
    "ff_y = ff_data['Label']"
   ]
  },
  {
   "cell_type": "code",
   "execution_count": null,
   "id": "b5ab6980",
   "metadata": {},
   "outputs": [],
   "source": [
    "ff_x"
   ]
  },
  {
   "cell_type": "code",
   "execution_count": null,
   "id": "0a77aad4",
   "metadata": {},
   "outputs": [],
   "source": [
    "#data['Session'] == 'pre'\n",
    "#data.count(['Session'])\n",
    "#data['Session'].value_counts(sort=True)"
   ]
  },
  {
   "cell_type": "code",
   "execution_count": 159,
   "id": "f83760ed",
   "metadata": {},
   "outputs": [],
   "source": [
    "x = data[['Duration', 'Sent_Length', 'Speech_Rate', 'Articulation_Rate', 'Syllable_Length',\n",
    "           'Syllable_Per_Word', 'Char_Length', 'Char_Per_Word', 'Article_Count']]\n",
    "\n",
    "oNB = data[['Duration', 'Sent_Length', 'Speech_Rate',\n",
    "           'Syllable_Per_Word','Article_Count']]\n",
    "\n",
    "y = data['Label']"
   ]
  },
  {
   "cell_type": "code",
   "execution_count": null,
   "id": "5b95612a",
   "metadata": {},
   "outputs": [],
   "source": [
    "#Dummy classifier to determine baseline accuracy metrics\n",
    "x_train, x_test, y_train, y_test = train_test_split(x, y, test_size=0.25, random_state=88, shuffle = True)\n",
    "dummy_clf = DummyClassifier(strategy= 'most_frequent').fit(x_train,y_train)\n",
    "dummy_pred = dummy_clf.predict(x_test)\n",
    "#dummy_average_precision = average_precision_score(y_test, dummy_pred)\n",
    "dummy_train_score = dummy_clf.score(x_train, y_train)\n",
    "dummy_test_score = dummy_clf.score(x_test, y_test)\n",
    "dummy_average_precision\n",
    "dummy_train_score\n",
    "dummy_test_score\n",
    "#print(\"Train score:\", dummy_train_score, \"Test score:\", dummy_test_score)\n",
    "print(\"Prediction score:\", dummy_pred)"
   ]
  },
  {
   "cell_type": "code",
   "execution_count": null,
   "id": "f5c81f82",
   "metadata": {},
   "outputs": [],
   "source": [
    "ff_dummy_pred = dummy_clf.predict(av_x)\n",
    "ff_dummy_pred"
   ]
  },
  {
   "cell_type": "code",
   "execution_count": 149,
   "id": "60c73221",
   "metadata": {},
   "outputs": [
    {
     "data": {
      "text/plain": [
       "(0.5540372670807453, 0.5540372670807453, 0.5540372670807453, None)"
      ]
     },
     "execution_count": 149,
     "metadata": {},
     "output_type": "execute_result"
    }
   ],
   "source": [
    "precision_recall_fscore_support(y_test, dummy_pred, average='micro')"
   ]
  },
  {
   "cell_type": "code",
   "execution_count": null,
   "id": "d843e83f",
   "metadata": {},
   "outputs": [],
   "source": [
    "ff_score = dummy_clf.score(ff_x, ff_y)\n",
    "ff_score"
   ]
  },
  {
   "cell_type": "code",
   "execution_count": 150,
   "id": "fd044183",
   "metadata": {},
   "outputs": [],
   "source": [
    "#Baseline Naive Bayes classifier \n",
    "x_train, x_test, y_train, y_test = train_test_split(x, y, test_size=0.25, random_state=88, shuffle = True)\n",
    "NB_Model = make_pipeline(StandardScaler(), BernoulliNB())\n",
    "NB_Model.fit(x_train, y_train)\n",
    "NB_pred = NB_Model.predict(x_test)\n",
    "#NB_average_precision = average_precision_score(y_test, NB_pred)\n",
    "NB_train_score = NB_Model.score(x_train, y_train)\n",
    "NB_test_score = NB_Model.score(x_test, y_test)\n",
    "#print(NB_train_score, NB_test_score)\n",
    "#print(NB_pred)"
   ]
  },
  {
   "cell_type": "code",
   "execution_count": 155,
   "id": "0766fed0",
   "metadata": {},
   "outputs": [
    {
     "data": {
      "text/plain": [
       "(0.6782608695652174, 0.6782608695652174, 0.6782608695652174, None)"
      ]
     },
     "execution_count": 155,
     "metadata": {},
     "output_type": "execute_result"
    }
   ],
   "source": [
    "precision_recall_fscore_support(y_test, NB_pred, average='micro')"
   ]
  },
  {
   "cell_type": "code",
   "execution_count": null,
   "id": "b9193ec2",
   "metadata": {},
   "outputs": [],
   "source": [
    "ff_NB_pred = NB_Model.predict(av_x)\n",
    "ff_NB_pred"
   ]
  },
  {
   "cell_type": "code",
   "execution_count": null,
   "id": "e0c9b0b8",
   "metadata": {},
   "outputs": [],
   "source": [
    "NB_acc =  NB_Model.score(ff_x, ff_y)\n",
    "NB_acc"
   ]
  },
  {
   "cell_type": "code",
   "execution_count": 157,
   "id": "1b508189",
   "metadata": {},
   "outputs": [],
   "source": [
    "#Optimized Naive Bayes classifier\n",
    "x_train, x_test, y_train, y_test = train_test_split(oNB, y, test_size=0.25, random_state=88, shuffle = True)\n",
    "ONB_Model = make_pipeline(StandardScaler(), BernoulliNB())\n",
    "ONB_Model.fit(x_train, y_train)\n",
    "ONB_pred = ONB_Model.predict(x_test)\n",
    "ONB_average_precision = average_precision_score(y_test, ONB_pred)\n",
    "ONB_train_score = ONB_Model.score(x_train, y_train)\n",
    "ONB_test_score = ONB_Model.score(x_test, y_test)\n",
    "#print(ONB_train_score, ONB_test_score)\n",
    "#ONB_pred"
   ]
  },
  {
   "cell_type": "code",
   "execution_count": 158,
   "id": "32123e75",
   "metadata": {},
   "outputs": [
    {
     "data": {
      "text/plain": [
       "(0.6906832298136646, 0.6906832298136646, 0.6906832298136646, None)"
      ]
     },
     "execution_count": 158,
     "metadata": {},
     "output_type": "execute_result"
    }
   ],
   "source": [
    "precision_recall_fscore_support(y_test, ONB_pred, average='micro')"
   ]
  },
  {
   "cell_type": "code",
   "execution_count": null,
   "id": "541ff401",
   "metadata": {},
   "outputs": [],
   "source": [
    "ONB_acc =  ONB_Model.score(ff_oNB, ff_y)\n",
    "ONB_acc"
   ]
  },
  {
   "cell_type": "code",
   "execution_count": null,
   "id": "96c9d400",
   "metadata": {},
   "outputs": [],
   "source": [
    "#Predict response during\n",
    "ff_ONB_pred = ONB_Model.predict(av_oNB)\n",
    "#ONB_average_precision = average_precision_score(ff_y, ff_ONB_pred)\n",
    "#print(ONB_average_precision)\n",
    "ff_ONB_pred"
   ]
  },
  {
   "cell_type": "code",
   "execution_count": 162,
   "id": "b7fc0013",
   "metadata": {},
   "outputs": [],
   "source": [
    "#Logistic regression classifier with standardized features\n",
    "x_train, x_test, y_train, y_test = train_test_split(x, y, test_size=0.25, random_state=88, shuffle = True)\n",
    "LR_Model = make_pipeline(StandardScaler(), LogisticRegression())\n",
    "LR_Model.fit(x_train, y_train)\n",
    "LR_pred = LR_Model.predict(x_test)\n",
    "LR_average_precision = average_precision_score(y_test, LR_Pred)\n",
    "LR_train_score = LR_Model.score(x_train, y_train)\n",
    "LR_test_score = LR_Model.score(x_test, y_test)\n",
    "#print(LR_train_score, LR_test_score)\n",
    "#print('Average precision-recall score: {0:0.2f}'.format(\n",
    " #     average_precision))"
   ]
  },
  {
   "cell_type": "code",
   "execution_count": 163,
   "id": "c2e8f985",
   "metadata": {},
   "outputs": [
    {
     "data": {
      "text/plain": [
       "(0.7391304347826086, 0.7391304347826086, 0.7391304347826085, None)"
      ]
     },
     "execution_count": 163,
     "metadata": {},
     "output_type": "execute_result"
    }
   ],
   "source": [
    "precision_recall_fscore_support(y_test, LR_pred, average='micro')"
   ]
  },
  {
   "cell_type": "code",
   "execution_count": null,
   "id": "94e99622",
   "metadata": {},
   "outputs": [],
   "source": [
    "#Predict response during follow-up\n",
    "ff_LR_pred = LR_Model.predict(av_x)\n",
    "ff_LR_pred"
   ]
  },
  {
   "cell_type": "code",
   "execution_count": null,
   "id": "69a08e88",
   "metadata": {},
   "outputs": [],
   "source": [
    "LR_acc =  LR_Model.score(ff_x, ff_y)\n",
    "LR_acc"
   ]
  },
  {
   "cell_type": "code",
   "execution_count": null,
   "id": "8d6090dd",
   "metadata": {},
   "outputs": [],
   "source": []
  },
  {
   "cell_type": "code",
   "execution_count": null,
   "id": "a9e4ef7c",
   "metadata": {},
   "outputs": [],
   "source": [
    "from sklearn.metrics import precision_recall_curve\n",
    "from sklearn.metrics import plot_precision_recall_curve\n",
    "\n",
    "disp = plot_precision_recall_curve(Log_Reg_Model, x_test, y_test)\n",
    "disp.ax_.set_title('2-class Precision-Recall curve: '\n",
    "                   'AP={0:0.2f}'.format(average_precision))"
   ]
  },
  {
   "cell_type": "code",
   "execution_count": null,
   "id": "9e25a06e",
   "metadata": {},
   "outputs": [],
   "source": [
    "cm = metrics.confusion_matrix(y_test, ONB_pred)"
   ]
  },
  {
   "cell_type": "code",
   "execution_count": null,
   "id": "17da95b6",
   "metadata": {},
   "outputs": [],
   "source": [
    "plt.figure(figsize=(9,9))\n",
    "sns.heatmap(cm, annot=True, fmt=\".3f\", linewidths=.5, square = True, cmap = 'Blues_r');\n",
    "plt.ylabel('Actual label');\n",
    "plt.xlabel('Predicted label');\n",
    "all_sample_title = 'Accuracy Score: {0}'.format(ONB_test_score)\n",
    "plt.title(all_sample_title, size = 15)"
   ]
  },
  {
   "cell_type": "code",
   "execution_count": null,
   "id": "ae1fb38f",
   "metadata": {},
   "outputs": [],
   "source": [
    "#Correlation Matrix\n",
    "corr = pd.DataFrame.corr(x)\n",
    "plt.figure(figsize=(12,8))\n",
    "sns.heatmap(corr, annot=True, linewidths=.5, fmt='3f')\n",
    "#corr.style.background_gradient(cmap='bwr')\n",
    "plt.show()"
   ]
  },
  {
   "cell_type": "code",
   "execution_count": null,
   "id": "70db7e89",
   "metadata": {},
   "outputs": [],
   "source": [
    "import numpy as np\n",
    "from sklearn.metrics import average_precision_score\n",
    "y_true = np.array([0, 0, 1, 1])\n",
    "y_scores = np.array([0.1, 0.4, 0.35, 0.8])\n",
    "average_precision_score(y_true, y_scores)"
   ]
  },
  {
   "cell_type": "code",
   "execution_count": null,
   "id": "18cd5c1a",
   "metadata": {},
   "outputs": [],
   "source": [
    "sklearn.metrics.f1_score()"
   ]
  }
 ],
 "metadata": {
  "kernelspec": {
   "display_name": "Python 3",
   "language": "python",
   "name": "python3"
  },
  "language_info": {
   "codemirror_mode": {
    "name": "ipython",
    "version": 3
   },
   "file_extension": ".py",
   "mimetype": "text/x-python",
   "name": "python",
   "nbconvert_exporter": "python",
   "pygments_lexer": "ipython3",
   "version": "3.7.10"
  }
 },
 "nbformat": 4,
 "nbformat_minor": 5
}
